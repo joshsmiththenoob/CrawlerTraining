{
 "cells": [
  {
   "cell_type": "code",
   "execution_count": 1,
   "id": "44f6961b-f8de-45e1-a331-7c39ec2b5ca6",
   "metadata": {},
   "outputs": [],
   "source": [
    "# 104_job_bank with Selenium (Overview)\n",
    "# import packages\n",
    "from selenium.webdriver import Chrome\n",
    "from selenium.webdriver.chrome.service import Service\n",
    "from selenium.webdriver.common.by import By\n",
    "from selenium.webdriver.chrome.options import Options\n",
    "import csv , time\n",
    "\n",
    "# Get Driver\n",
    "service = Service(\"./chromedriver\")\n",
    "chrome_options = Options()\n",
    "chrome_options.page_load_strategy = 'eager'\n",
    "driver = Chrome(service=service,options = chrome_options)\n",
    "\n",
    "# define get"
   ]
  },
  {
   "cell_type": "code",
   "execution_count": 2,
   "id": "43204495-6b95-42b0-a66e-03b33b42ef9f",
   "metadata": {},
   "outputs": [],
   "source": [
    "# 104 home page's url\n",
    "url = \"https://www.104.com.tw/jobs/main/\"  # go to jobbank\n",
    "driver.get(url) # surf jobbank with browser\n",
    "driver.maximize_window() # maximize broswer window -> get more HTML ASAP\n",
    "time.sleep(3)"
   ]
  },
  {
   "cell_type": "code",
   "execution_count": 3,
   "id": "036dfe9a-aaca-4808-8989-89eaf80753e6",
   "metadata": {},
   "outputs": [],
   "source": [
    "# Type KeyWord of interest\n",
    "driver.find_element(by=By.XPATH, value='/html/body/article[1]/div/div/div[4]/div/input').send_keys(\"光學工程師\")\n",
    "time.sleep(3)"
   ]
  },
  {
   "cell_type": "code",
   "execution_count": 4,
   "id": "b2ebe4df-a9a2-4dcc-9dfa-605495408312",
   "metadata": {},
   "outputs": [],
   "source": [
    "# Push search button\n",
    "driver.find_element(by=By.XPATH,value='/html/body/article[1]/div/div/div[4]/div/button').click()\n",
    "time.sleep(3)"
   ]
  },
  {
   "cell_type": "code",
   "execution_count": 5,
   "id": "cad79dc6-e01a-4292-9b6e-ba11a35ad08b",
   "metadata": {},
   "outputs": [],
   "source": [
    "# # Scroll page 4 times\n",
    "# for i in range(4):\n",
    "#     time.sleep(2)\n",
    "driver.execute_script(\"window.scrollTo(0,document.body.scrollHeight)\")"
   ]
  },
  {
   "cell_type": "code",
   "execution_count": 6,
   "id": "9207b98f-9521-42a7-8023-417c0eb58bc6",
   "metadata": {},
   "outputs": [],
   "source": [
    "# find HTML element including the jobs' info\n",
    "# articles = driver.find_elements(By.CLASS_NAME, \"b-block--top-bord.job-list-item.b-clearfix.js-job-item\")\n",
    "jobs = driver.find_elements(By.CLASS_NAME, \"js-job-link\")\n",
    "jobs_numbers = len(jobs)"
   ]
  },
  {
   "cell_type": "code",
   "execution_count": 7,
   "id": "57b7e404-a45a-45e8-860d-618b546c72e6",
   "metadata": {},
   "outputs": [
    {
     "name": "stdout",
     "output_type": "stream",
     "text": [
      "半導體設備工程師(桃園)\n",
      "https://www.104.com.tw/job/6ig8h?jobsource=hotjob_chr\n",
      "精密機構/機械\n",
      "https://www.104.com.tw/job/4hvfp?jobsource=hotjob_chr\n",
      "14P-T-0002光學工程師\n",
      "https://www.104.com.tw/job/5ep52?jobsource=jolist_c_relevance\n",
      "光學工程師\n",
      "https://www.104.com.tw/job/4mzl6?jobsource=jolist_c_relevance\n",
      "視光學工程師\n",
      "https://www.104.com.tw/job/5b3c0?jobsource=jolist_c_relevance\n",
      "車燈光學/機構設計工程師\n",
      "https://www.104.com.tw/job/700vm?jobsource=jolist_c_relevance\n",
      "光學工程師\n",
      "https://www.104.com.tw/job/50puf?jobsource=jolist_c_relevance\n",
      "研發類-LiDAR Light Engine Sr. Mechanical Engineer 光達光機機構設計資深工程師(CMC)\n",
      "https://www.104.com.tw/job/5mb1d?jobsource=jolist_c_relevance\n",
      "資深工程師 (背光模組研發)\n",
      "https://www.104.com.tw/job/7watg?jobsource=jolist_c_relevance\n",
      "工研院材化所_光電工程師(M100)\n",
      "https://www.104.com.tw/job/7tl5a?jobsource=jolist_c_relevance\n",
      "光學資深工程師Senior Engineer (Optical field)\n",
      "https://www.104.com.tw/job/7lkfq?jobsource=jolist_c_relevance\n",
      "資深非成像光學設計人員_11801\n",
      "https://www.104.com.tw/job/7sc9q?jobsource=jolist_c_relevance\n",
      "Micro LED面板開發工程師_2023預聘暨研發替代役(新鮮人限定/新竹)R07\n",
      "https://www.104.com.tw/job/7hq7s?jobsource=jolist_c_relevance\n",
      "《車用》RD●資深機構工程師●研發機構專員●產品機構設計工程師●車用車燈設計主任【年薪上看15個月】★薪40K-60K起★►季獎金上看1.5個月►冷氣廠房►常日班►外縣市供宿● Mechanical Engineer ●\n",
      "https://www.104.com.tw/job/5n56c?jobsource=jolist_c_relevance\n",
      "光學工程師\n",
      "https://www.104.com.tw/job/73eu0?jobsource=jolist_c_relevance\n",
      "(VIVE H/W)Optical Engineer-J01724\n",
      "https://www.104.com.tw/job/78lmv?jobsource=jolist_c_relevance\n",
      "研發工程師\n",
      "https://www.104.com.tw/job/7ow6x?jobsource=jolist_c_relevance\n",
      "【視訊面談】光學產品機構工程師\n",
      "https://www.104.com.tw/job/7oy43?jobsource=jolist_c_relevance\n",
      "中壢廠-工程部助理工程師\n",
      "https://www.104.com.tw/job/7dg2l?jobsource=jolist_c_relevance\n",
      "R-產品開發工程師\n",
      "https://www.104.com.tw/job/7rcb5?jobsource=jolist_c_relevance\n",
      "《車用》RD●機構課長●光機課長●機構主管●車燈設計主任【年薪上看15個月】★薪45K-60K起★►季獎金上看1.5個月►冷氣廠房►常日班►外縣市供宿● Mechanical Engineer ●\n",
      "https://www.104.com.tw/job/7vghp?jobsource=jolist_c_relevance\n",
      "光學設備工程師 (桃園)_11600\n",
      "https://www.104.com.tw/job/7pocp?jobsource=jolist_c_relevance\n"
     ]
    }
   ],
   "source": [
    "# find job details in articles which has same form individually\n",
    "for nth_job in range(jobs_numbers) :\n",
    "    # # get value coressponding to attribute (key)\n",
    "    # articles = driver.find_elements(By.CLASS_NAME, \"b-block--top-bord.job-list-item.b-clearfix.js-job-item\")\n",
    "    # find nth-article's job-link\n",
    "    job_name = driver.find_elements(By.CLASS_NAME, \"js-job-link\")[nth_job]\n",
    "    # get value coressponding to attribute (key)\n",
    "    job_link = job_name.get_attribute(\"href\")\n",
    "    print(job_name.text)\n",
    "    print(job_link)\n",
    "    driver.get(job_link)\n",
    "    time.sleep(3)\n",
    "    driver.back()\n",
    "    time.sleep(5)"
   ]
  },
  {
   "cell_type": "code",
   "execution_count": null,
   "id": "b83ca226-67af-47d4-b30b-4e488e6eb3c0",
   "metadata": {},
   "outputs": [],
   "source": []
  },
  {
   "cell_type": "code",
   "execution_count": null,
   "id": "67e13fb0-e88e-4c3a-b118-896a270da2fe",
   "metadata": {},
   "outputs": [],
   "source": []
  },
  {
   "cell_type": "code",
   "execution_count": null,
   "id": "1eb6b809-2e7f-439a-93f8-bce76436768c",
   "metadata": {},
   "outputs": [],
   "source": []
  }
 ],
 "metadata": {
  "kernelspec": {
   "display_name": "Python 3 (ipykernel)",
   "language": "python",
   "name": "python3"
  },
  "language_info": {
   "codemirror_mode": {
    "name": "ipython",
    "version": 3
   },
   "file_extension": ".py",
   "mimetype": "text/x-python",
   "name": "python",
   "nbconvert_exporter": "python",
   "pygments_lexer": "ipython3",
   "version": "3.9.7"
  }
 },
 "nbformat": 4,
 "nbformat_minor": 5
}

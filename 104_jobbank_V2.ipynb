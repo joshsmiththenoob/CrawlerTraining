{
 "cells": [
  {
   "cell_type": "code",
   "execution_count": 1,
   "id": "44f6961b-f8de-45e1-a331-7c39ec2b5ca6",
   "metadata": {},
   "outputs": [],
   "source": [
    "# 104_job_bank with Selenium\n",
    "# import packages\n",
    "from selenium.webdriver import Chrome\n",
    "from selenium.webdriver.chrome.service import Service\n",
    "from selenium.webdriver.common.by import By\n",
    "from selenium.webdriver.chrome.options import Options\n",
    "import csv , time\n",
    "\n",
    "# Get Driver\n",
    "service = Service(\"./chromedriver\")\n",
    "chrome_options = Options()\n",
    "chrome_options.page_load_strategy = 'eager'\n",
    "driver = Chrome(service=service,options = chrome_options)\n"
   ]
  },
  {
   "cell_type": "code",
   "execution_count": 2,
   "id": "43204495-6b95-42b0-a66e-03b33b42ef9f",
   "metadata": {},
   "outputs": [],
   "source": [
    "# 104 home page's url\n",
    "url = \"https://www.104.com.tw/jobs/main/\"  # go to jobbank\n",
    "driver.get(url) # surf jobbank with browser\n",
    "driver.maximize_window() # maximize broswer window -> get more HTML ASAP\n",
    "time.sleep(3)"
   ]
  },
  {
   "cell_type": "code",
   "execution_count": 3,
   "id": "036dfe9a-aaca-4808-8989-89eaf80753e6",
   "metadata": {},
   "outputs": [],
   "source": [
    "# Type KeyWord of interest\n",
    "driver.find_element(by=By.XPATH, value='/html/body/article[1]/div/div/div[4]/div/input').send_keys(\"光學工程師\")\n",
    "time.sleep(3)"
   ]
  },
  {
   "cell_type": "code",
   "execution_count": 4,
   "id": "b2ebe4df-a9a2-4dcc-9dfa-605495408312",
   "metadata": {},
   "outputs": [],
   "source": [
    "# Push search button\n",
    "driver.find_element(by=By.XPATH,value='/html/body/article[1]/div/div/div[4]/div/button').click()"
   ]
  },
  {
   "cell_type": "code",
   "execution_count": 5,
   "id": "cad79dc6-e01a-4292-9b6e-ba11a35ad08b",
   "metadata": {},
   "outputs": [],
   "source": [
    "# Scroll page 4 times\n",
    "for i in range(4):\n",
    "    time.sleep(2)\n",
    "    driver.execute_script(\"window.scrollTo(0,document.body.scrollHeight)\")"
   ]
  }
 ],
 "metadata": {
  "kernelspec": {
   "display_name": "Python 3 (ipykernel)",
   "language": "python",
   "name": "python3"
  },
  "language_info": {
   "codemirror_mode": {
    "name": "ipython",
    "version": 3
   },
   "file_extension": ".py",
   "mimetype": "text/x-python",
   "name": "python",
   "nbconvert_exporter": "python",
   "pygments_lexer": "ipython3",
   "version": "3.9.7"
  }
 },
 "nbformat": 4,
 "nbformat_minor": 5
}

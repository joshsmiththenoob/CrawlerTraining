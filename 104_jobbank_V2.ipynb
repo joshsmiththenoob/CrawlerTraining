{
 "cells": [
  {
   "cell_type": "code",
   "execution_count": 1,
   "id": "44f6961b-f8de-45e1-a331-7c39ec2b5ca6",
   "metadata": {},
   "outputs": [],
   "source": [
    "# 104_job_bank with Selenium\n",
    "# import packages\n",
    "from selenium.webdriver import Chrome\n",
    "from selenium.webdriver.chrome.service import Service\n",
    "from selenium.webdriver.common.by import By\n",
    "import csv , time\n",
    "\n",
    "\n",
    "service = Service(\"./chromedriver\")\n",
    "driver = Chrome(service=service)\n"
   ]
  },
  {
   "cell_type": "code",
   "execution_count": 3,
   "id": "43204495-6b95-42b0-a66e-03b33b42ef9f",
   "metadata": {},
   "outputs": [
    {
     "name": "stdout",
     "output_type": "stream",
     "text": [
      "Python 3.9.7\n"
     ]
    }
   ],
   "source": []
  },
  {
   "cell_type": "code",
   "execution_count": null,
   "id": "036dfe9a-aaca-4808-8989-89eaf80753e6",
   "metadata": {},
   "outputs": [],
   "source": []
  }
 ],
 "metadata": {
  "kernelspec": {
   "display_name": "Python 3 (ipykernel)",
   "language": "python",
   "name": "python3"
  },
  "language_info": {
   "codemirror_mode": {
    "name": "ipython",
    "version": 3
   },
   "file_extension": ".py",
   "mimetype": "text/x-python",
   "name": "python",
   "nbconvert_exporter": "python",
   "pygments_lexer": "ipython3",
   "version": "3.9.7"
  }
 },
 "nbformat": 4,
 "nbformat_minor": 5
}

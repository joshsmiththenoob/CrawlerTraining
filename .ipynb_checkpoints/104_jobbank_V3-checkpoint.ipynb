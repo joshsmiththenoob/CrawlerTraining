{
 "cells": [
  {
   "cell_type": "code",
   "execution_count": 1,
   "id": "44f6961b-f8de-45e1-a331-7c39ec2b5ca6",
   "metadata": {},
   "outputs": [],
   "source": [
    "# 104_job_bank with Selenium (Overview)\n",
    "# import packages\n",
    "from selenium.webdriver import Chrome\n",
    "from selenium.webdriver.chrome.service import Service\n",
    "from selenium.webdriver.common.by import By\n",
    "from selenium.webdriver.chrome.options import Options\n",
    "import csv , time\n",
    "\n",
    "# Get Driver\n",
    "service = Service(\"./chromedriver\")\n",
    "chrome_options = Options()\n",
    "chrome_options.page_load_strategy = 'eager'\n",
    "driver = Chrome(service=service,options = chrome_options)\n",
    "\n",
    "# define get"
   ]
  },
  {
   "cell_type": "code",
   "execution_count": 2,
   "id": "43204495-6b95-42b0-a66e-03b33b42ef9f",
   "metadata": {},
   "outputs": [],
   "source": [
    "# 104 home page's url\n",
    "url = \"https://www.104.com.tw/jobs/main/\"  # go to jobbank\n",
    "driver.get(url) # surf jobbank with browser\n",
    "driver.maximize_window() # maximize broswer window -> get more HTML ASAP\n",
    "time.sleep(3)"
   ]
  },
  {
   "cell_type": "code",
   "execution_count": 3,
   "id": "036dfe9a-aaca-4808-8989-89eaf80753e6",
   "metadata": {},
   "outputs": [],
   "source": [
    "# Type KeyWord of interest\n",
    "driver.find_element(by=By.XPATH, value='/html/body/article[1]/div/div/div[4]/div/input').send_keys(\"光學工程師\")\n",
    "time.sleep(3)"
   ]
  },
  {
   "cell_type": "code",
   "execution_count": 4,
   "id": "b2ebe4df-a9a2-4dcc-9dfa-605495408312",
   "metadata": {},
   "outputs": [],
   "source": [
    "# Push search button\n",
    "driver.find_element(by=By.XPATH,value='/html/body/article[1]/div/div/div[4]/div/button').click()\n",
    "time.sleep(3)"
   ]
  },
  {
   "cell_type": "code",
   "execution_count": 5,
   "id": "cad79dc6-e01a-4292-9b6e-ba11a35ad08b",
   "metadata": {},
   "outputs": [],
   "source": [
    "# # Scroll page 4 times\n",
    "# for i in range(4):\n",
    "#     time.sleep(2)\n",
    "driver.execute_script(\"window.scrollTo(0,document.body.scrollHeight)\")"
   ]
  },
  {
   "cell_type": "code",
   "execution_count": 6,
   "id": "9207b98f-9521-42a7-8023-417c0eb58bc6",
   "metadata": {},
   "outputs": [],
   "source": [
    "# find HTML element including the jobs' info\n",
    "# articles = driver.find_elements(By.CLASS_NAME, \"b-block--top-bord.job-list-item.b-clearfix.js-job-item\")\n",
    "jobs = driver.find_elements(By.CLASS_NAME, \"js-job-link\")\n",
    "jobs_numbers = len(jobs)"
   ]
  },
  {
   "cell_type": "code",
   "execution_count": 7,
   "id": "57b7e404-a45a-45e8-860d-618b546c72e6",
   "metadata": {},
   "outputs": [
    {
     "name": "stdout",
     "output_type": "stream",
     "text": [
      "半導體設備工程師(桃園)\n",
      "https://www.104.com.tw/job/6ig8h?jobsource=hotjob_chr\n",
      "精密機構/機械\n",
      "https://www.104.com.tw/job/4hvfp?jobsource=hotjob_chr\n",
      "雷射光學工程師(華亞)R66\n",
      "https://www.104.com.tw/job/7vzbq?jobsource=jolist_a_relevance\n",
      "光學與光機設計工程師\n",
      "https://www.104.com.tw/job/7ej3w?jobsource=jolist_a_relevance\n",
      "光學研發工程師\n",
      "https://www.104.com.tw/job/7ckm9?jobsource=jolist_a_relevance\n",
      "光學工程師\n",
      "https://www.104.com.tw/job/50puf?jobsource=jolist_a_relevance\n",
      "【R】光學薄膜工程師(林口廠)\n",
      "https://www.104.com.tw/job/7ax8k?jobsource=jolist_a_relevance\n",
      "VR/AR光學系統及應用研發工程師/專員 - J1278\n",
      "https://www.104.com.tw/job/7dl17?jobsource=jolist_a_relevance\n",
      "研發工程師(背光事業部)\n",
      "https://www.104.com.tw/job/2m6ij?jobsource=jolist_a_relevance\n",
      "汽車電子事業部-Camera光機工程師/資深工程師(新竹)\n",
      "https://www.104.com.tw/job/6w6l3?jobsource=jolist_a_relevance\n",
      "IS13 光學工程師 Senior Optical Engineer\n",
      "https://www.104.com.tw/job/4jbt9?jobsource=jolist_a_relevance\n",
      "光學工程師\n",
      "https://www.104.com.tw/job/7nrvc?jobsource=jolist_a_relevance\n",
      "《車用》RD●資深機構工程師●研發機構專員●產品機構設計工程師●車用車燈設計主任【年薪上看15個月】★薪40K-60K起★►季獎金上看1.5個月►冷氣廠房►常日班►外縣市供宿● Mechanical Engineer ●\n",
      "https://www.104.com.tw/job/5n56c?jobsource=jolist_a_relevance\n",
      "電子光學研發工程師\n",
      "https://www.104.com.tw/job/5kwul?jobsource=jolist_a_relevance\n",
      "光學設計工程師(新竹)\n",
      "https://www.104.com.tw/job/7tc9x?jobsource=jolist_a_relevance\n",
      "系統工程師 (Panel PC )\n",
      "https://www.104.com.tw/job/7car3?jobsource=jolist_a_relevance\n",
      "新技術開發(光學模組)工程師(台中后里)\n",
      "https://www.104.com.tw/job/7j5i9?jobsource=jolist_a_relevance\n",
      "自動光學檢測設備(AOI)-FAE工程師(學士級 歡迎非本科或文組)\n",
      "https://www.104.com.tw/job/7jeqd?jobsource=jolist_a_relevance\n",
      "【中科】光學設計部-機構工程師\n",
      "https://www.104.com.tw/job/79zcl?jobsource=jolist_a_relevance\n",
      "工研院感測系統中心_AOI光學檢測系統開發工程師(創新/M200)\n",
      "https://www.104.com.tw/job/4fne9?jobsource=jolist_a_relevance\n",
      "光學設備工程師 (桃園)_11600\n",
      "https://www.104.com.tw/job/7pocp?jobsource=jolist_a_relevance\n",
      "(光機技術部)熱流專案課長(車用)\n",
      "https://www.104.com.tw/job/7so4o?jobsource=jolist_a_relevance\n"
     ]
    }
   ],
   "source": [
    "# find job details in articles which has same form individually\n",
    "for nth_job in range(jobs_numbers) :\n",
    "    # # get value coressponding to attribute (key)\n",
    "    # articles = driver.find_elements(By.CLASS_NAME, \"b-block--top-bord.job-list-item.b-clearfix.js-job-item\")\n",
    "    # find nth-article's job-link\n",
    "    job_name = driver.find_elements(By.CLASS_NAME, \"js-job-link\")[nth_job]\n",
    "    # get value coressponding to attribute (key)\n",
    "    job_link = job_name.get_attribute(\"href\")\n",
    "    print(job_name.text)\n",
    "    print(job_link)\n",
    "    driver.get(job_link)\n",
    "    time.sleep(3)\n",
    "    driver.back()\n",
    "    time.sleep(5)"
   ]
  },
  {
   "cell_type": "code",
   "execution_count": null,
   "id": "b83ca226-67af-47d4-b30b-4e488e6eb3c0",
   "metadata": {},
   "outputs": [],
   "source": []
  },
  {
   "cell_type": "code",
   "execution_count": null,
   "id": "67e13fb0-e88e-4c3a-b118-896a270da2fe",
   "metadata": {},
   "outputs": [],
   "source": []
  },
  {
   "cell_type": "code",
   "execution_count": null,
   "id": "1eb6b809-2e7f-439a-93f8-bce76436768c",
   "metadata": {},
   "outputs": [],
   "source": []
  }
 ],
 "metadata": {
  "kernelspec": {
   "display_name": "Python 3 (ipykernel)",
   "language": "python",
   "name": "python3"
  },
  "language_info": {
   "codemirror_mode": {
    "name": "ipython",
    "version": 3
   },
   "file_extension": ".py",
   "mimetype": "text/x-python",
   "name": "python",
   "nbconvert_exporter": "python",
   "pygments_lexer": "ipython3",
   "version": "3.9.7"
  }
 },
 "nbformat": 4,
 "nbformat_minor": 5
}

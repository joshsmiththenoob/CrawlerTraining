{
 "cells": [
  {
   "cell_type": "code",
   "execution_count": 8,
   "id": "44f6961b-f8de-45e1-a331-7c39ec2b5ca6",
   "metadata": {},
   "outputs": [],
   "source": [
    "# 104_job_bank with Selenium (Overview)\n",
    "# import packages\n",
    "from selenium.webdriver import Chrome\n",
    "from selenium.webdriver.chrome.service import Service\n",
    "from selenium.webdriver.common.by import By\n",
    "from selenium.webdriver.chrome.options import Options\n",
    "import csv , time\n",
    "\n",
    "# Get Driver\n",
    "service = Service(\"./chromedriver\")\n",
    "chrome_options = Options()\n",
    "chrome_options.page_load_strategy = 'eager'\n",
    "driver = Chrome(service=service,options = chrome_options)\n"
   ]
  },
  {
   "cell_type": "code",
   "execution_count": 9,
   "id": "43204495-6b95-42b0-a66e-03b33b42ef9f",
   "metadata": {},
   "outputs": [],
   "source": [
    "# 104 home page's url\n",
    "url = \"https://www.104.com.tw/jobs/main/\"  # go to jobbank\n",
    "driver.get(url) # surf jobbank with browser\n",
    "driver.maximize_window() # maximize broswer window -> get more HTML ASAP\n",
    "time.sleep(3)"
   ]
  },
  {
   "cell_type": "code",
   "execution_count": 10,
   "id": "036dfe9a-aaca-4808-8989-89eaf80753e6",
   "metadata": {},
   "outputs": [],
   "source": [
    "# KeyWord of interest\n",
    "driver.find_element(by=By.XPATH, value='/html/body/article[1]/div/div/div[4]/div/input').send_keys(\"後端工程師\")\n",
    "time.sleep(3)"
   ]
  },
  {
   "cell_type": "code",
   "execution_count": 11,
   "id": "b2ebe4df-a9a2-4dcc-9dfa-605495408312",
   "metadata": {},
   "outputs": [],
   "source": [
    "# Push search button\n",
    "driver.find_element(by=By.XPATH,value='/html/body/article[1]/div/div/div[4]/div/button').click()\n",
    "time.sleep(3)"
   ]
  },
  {
   "cell_type": "code",
   "execution_count": 12,
   "id": "cad79dc6-e01a-4292-9b6e-ba11a35ad08b",
   "metadata": {},
   "outputs": [],
   "source": [
    "# # Scroll page 4 times\n",
    "# for i in range(4):\n",
    "#     time.sleep(2)\n",
    "driver.execute_script(\"window.scrollTo(0,document.body.scrollHeight)\")"
   ]
  },
  {
   "cell_type": "code",
   "execution_count": 26,
   "id": "9207b98f-9521-42a7-8023-417c0eb58bc6",
   "metadata": {},
   "outputs": [],
   "source": [
    "# find HTML element including the jobs' info\n",
    "# articles = driver.find_elements(By.CLASS_NAME, \"b-block--top-bord.job-list-item.b-clearfix.js-job-item\")\n",
    "jobs = driver.find_elements(By.CLASS_NAME, \"js-job-link\")\n",
    "jobs_numbers = len(jobs)"
   ]
  },
  {
   "cell_type": "code",
   "execution_count": 32,
   "id": "793fb150-f807-4188-a861-949993f9c277",
   "metadata": {},
   "outputs": [
    {
     "data": {
      "text/plain": [
       "90"
      ]
     },
     "execution_count": 32,
     "metadata": {},
     "output_type": "execute_result"
    }
   ],
   "source": [
    "jobs_numbers"
   ]
  },
  {
   "cell_type": "code",
   "execution_count": 31,
   "id": "70f836a1-4a5e-4651-b66d-a443f9df9994",
   "metadata": {},
   "outputs": [],
   "source": [
    "# Scrolling to specific element\n",
    "driver.execute_script(\"arguments[0].scrollIntoView();\",jobs[4])"
   ]
  },
  {
   "cell_type": "code",
   "execution_count": null,
   "id": "57b7e404-a45a-45e8-860d-618b546c72e6",
   "metadata": {},
   "outputs": [
    {
     "name": "stdout",
     "output_type": "stream",
     "text": [
      "軟體工程師 Mid/Senior Software Engineer\n",
      "https://www.104.com.tw/job/7kxas?jobsource=hotjob_chr\n",
      "PHP 或 Java後端工程師 (視訊/線上面談)-擴編職缺\n",
      "https://www.104.com.tw/job/64v7o?jobsource=hotjob_chr\n",
      "資深後端工程師 Senior Backend Engineer\n",
      "https://www.104.com.tw/job/7lovu?jobsource=jolist_a_relevance\n",
      "後端工程師/Backend Engineer\n",
      "https://www.104.com.tw/job/7ds5k?jobsource=jolist_a_relevance\n",
      "後端工程師\n",
      "https://www.104.com.tw/job/7vt59?jobsource=jolist_a_relevance\n",
      "【R＆D】資深後端工程師 Backend Engineer\n",
      "https://www.104.com.tw/job/6m4mc?jobsource=jolist_a_relevance\n",
      "資深後端工程師 (JAVA)\n",
      "https://www.104.com.tw/job/7w7mj?jobsource=jolist_a_relevance\n",
      "(年度擴編) | Java Engineer 後端工程師\n",
      "https://www.104.com.tw/job/7evi2?jobsource=jolist_a_relevance\n",
      "網頁後端工程師\n",
      "https://www.104.com.tw/job/690e1?jobsource=jolist_a_relevance\n",
      "(Joymap 享樂地圖)Backend Developer 後端工程師\n",
      "https://www.104.com.tw/job/6kkw8?jobsource=jolist_a_relevance\n",
      "後端工程師/資深後端工程師\n",
      "https://www.104.com.tw/job/77v45?jobsource=jolist_a_relevance\n",
      "後端工程師\n",
      "https://www.104.com.tw/job/7nion?jobsource=jolist_a_relevance\n",
      ".Net 後端工程師\n",
      "https://www.104.com.tw/job/7sar2?jobsource=jolist_a_relevance\n",
      "ASP.NET Core後端工程師\n",
      "https://www.104.com.tw/job/7v1rz?jobsource=jolist_a_relevance\n",
      "後端工程師(Back-end Engineer)\n",
      "https://www.104.com.tw/job/7do2k?jobsource=jolist_a_relevance\n",
      "遊戲後端工程師\n",
      "https://www.104.com.tw/job/7u8b3?jobsource=jolist_a_relevance\n"
     ]
    }
   ],
   "source": [
    "# find job details in articles which has same form individually\n",
    "for nth_job in range(jobs_numbers) :\n",
    "    # # get value coressponding to attribute (key)\n",
    "    # articles = driver.find_elements(By.CLASS_NAME, \"b-block--top-bord.job-list-item.b-clearfix.js-job-item\")\n",
    "    # find nth-article's job-link\n",
    "    job_name = driver.find_elements(By.CLASS_NAME, \"js-job-link\")[nth_job]\n",
    "    # get value coressponding to attribute (key)\n",
    "    job_link = job_name.get_attribute(\"href\")\n",
    "    print(job_name.text)\n",
    "    print(job_link)\n",
    "    driver.get(job_link)\n",
    "    time.sleep(3)\n",
    "    driver.back()\n",
    "    time.sleep(5)"
   ]
  },
  {
   "cell_type": "code",
   "execution_count": null,
   "id": "b83ca226-67af-47d4-b30b-4e488e6eb3c0",
   "metadata": {},
   "outputs": [],
   "source": []
  },
  {
   "cell_type": "code",
   "execution_count": null,
   "id": "67e13fb0-e88e-4c3a-b118-896a270da2fe",
   "metadata": {},
   "outputs": [],
   "source": []
  },
  {
   "cell_type": "code",
   "execution_count": null,
   "id": "1eb6b809-2e7f-439a-93f8-bce76436768c",
   "metadata": {},
   "outputs": [],
   "source": []
  }
 ],
 "metadata": {
  "kernelspec": {
   "display_name": "Python 3",
   "language": "python",
   "name": "python3"
  },
  "language_info": {
   "codemirror_mode": {
    "name": "ipython",
    "version": 3
   },
   "file_extension": ".py",
   "mimetype": "text/x-python",
   "name": "python",
   "nbconvert_exporter": "python",
   "pygments_lexer": "ipython3",
   "version": "3.9.7"
  },
  "vscode": {
   "interpreter": {
    "hash": "9031888372472d356e75c7d06ac5e4624b7306151e995e773963abc2f7e8f58e"
   }
  }
 },
 "nbformat": 4,
 "nbformat_minor": 5
}

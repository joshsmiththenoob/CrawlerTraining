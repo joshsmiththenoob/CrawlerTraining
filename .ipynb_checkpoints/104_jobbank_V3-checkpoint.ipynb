{
 "cells": [
  {
   "cell_type": "code",
   "execution_count": 1,
   "id": "44f6961b-f8de-45e1-a331-7c39ec2b5ca6",
   "metadata": {},
   "outputs": [],
   "source": [
    "# 104_job_bank with Selenium (Overview)\n",
    "# import packages\n",
    "from selenium.webdriver import Chrome\n",
    "from selenium.webdriver.chrome.service import Service\n",
    "from selenium.webdriver.common.by import By\n",
    "from selenium.webdriver.chrome.options import Options\n",
    "import csv , time\n",
    "\n",
    "# Get Driver\n",
    "service = Service(\"./chromedriver\")\n",
    "chrome_options = Options()\n",
    "chrome_options.page_load_strategy = 'eager'\n",
    "driver = Chrome(service=service,options = chrome_options)\n",
    "\n",
    "# define get"
   ]
  },
  {
   "cell_type": "code",
   "execution_count": 2,
   "id": "43204495-6b95-42b0-a66e-03b33b42ef9f",
   "metadata": {},
   "outputs": [],
   "source": [
    "# 104 home page's url\n",
    "url = \"https://www.104.com.tw/jobs/main/\"  # go to jobbank\n",
    "driver.get(url) # surf jobbank with browser\n",
    "driver.maximize_window() # maximize broswer window -> get more HTML ASAP\n",
    "time.sleep(3)"
   ]
  },
  {
   "cell_type": "code",
   "execution_count": 3,
   "id": "036dfe9a-aaca-4808-8989-89eaf80753e6",
   "metadata": {},
   "outputs": [],
   "source": [
    "# Type KeyWord of interest\n",
    "driver.find_element(by=By.XPATH, value='/html/body/article[1]/div/div/div[4]/div/input').send_keys(\"光學工程師\")\n",
    "time.sleep(3)"
   ]
  },
  {
   "cell_type": "code",
   "execution_count": 4,
   "id": "b2ebe4df-a9a2-4dcc-9dfa-605495408312",
   "metadata": {},
   "outputs": [],
   "source": [
    "# Push search button\n",
    "driver.find_element(by=By.XPATH,value='/html/body/article[1]/div/div/div[4]/div/button').click()\n",
    "time.sleep(3)"
   ]
  },
  {
   "cell_type": "code",
   "execution_count": 5,
   "id": "cad79dc6-e01a-4292-9b6e-ba11a35ad08b",
   "metadata": {},
   "outputs": [],
   "source": [
    "# # Scroll page 4 times\n",
    "# for i in range(4):\n",
    "#     time.sleep(2)\n",
    "driver.execute_script(\"window.scrollTo(0,document.body.scrollHeight)\")"
   ]
  },
  {
   "cell_type": "code",
   "execution_count": 6,
   "id": "9207b98f-9521-42a7-8023-417c0eb58bc6",
   "metadata": {},
   "outputs": [],
   "source": [
    "# find HTML element including the jobs' info\n",
    "articles = driver.find_elements(By.CLASS_NAME, \"b-block--top-bord.job-list-item.b-clearfix.js-job-item\")\n",
    "article_numbers = len(articles)"
   ]
  },
  {
   "cell_type": "code",
   "execution_count": 7,
   "id": "57b7e404-a45a-45e8-860d-618b546c72e6",
   "metadata": {},
   "outputs": [
    {
     "name": "stdout",
     "output_type": "stream",
     "text": [
      "精密機構/機械\n",
      "https://www.104.com.tw/job/4hvfp?jobsource=hotjob_chr\n",
      "半導體設備工程師(桃園)\n",
      "https://www.104.com.tw/job/6ig8h?jobsource=hotjob_chr\n"
     ]
    },
    {
     "ename": "NoSuchWindowException",
     "evalue": "Message: no such window: target window already closed\nfrom unknown error: web view not found\n  (Session info: chrome=110.0.5481.97)\nStacktrace:\nBacktrace:\n\t(No symbol) [0x00E737D3]\n\t(No symbol) [0x00E08B81]\n\t(No symbol) [0x00D0B36D]\n\t(No symbol) [0x00CEE5DA]\n\t(No symbol) [0x00D5F0CB]\n\t(No symbol) [0x00D70A56]\n\t(No symbol) [0x00D5B216]\n\t(No symbol) [0x00D30D97]\n\t(No symbol) [0x00D3253D]\n\tGetHandleVerifier [0x010EABF2+2510930]\n\tGetHandleVerifier [0x01118EC1+2700065]\n\tGetHandleVerifier [0x0111C86C+2714828]\n\tGetHandleVerifier [0x00F23480+645344]\n\t(No symbol) [0x00E10FD2]\n\t(No symbol) [0x00E16C68]\n\t(No symbol) [0x00E16D4B]\n\t(No symbol) [0x00E20D6B]\n\tBaseThreadInitThunk [0x75D100F9+25]\n\tRtlGetAppContainerNamedObjectPath [0x77E97BBE+286]\n\tRtlGetAppContainerNamedObjectPath [0x77E97B8E+238]\n",
     "output_type": "error",
     "traceback": [
      "\u001b[1;31m---------------------------------------------------------------------------\u001b[0m",
      "\u001b[1;31mNoSuchWindowException\u001b[0m                     Traceback (most recent call last)",
      "Cell \u001b[1;32mIn [7], line 4\u001b[0m\n\u001b[0;32m      1\u001b[0m \u001b[38;5;66;03m# find job details in articles which has same form individually\u001b[39;00m\n\u001b[0;32m      2\u001b[0m \u001b[38;5;28;01mfor\u001b[39;00m nth_article \u001b[38;5;129;01min\u001b[39;00m \u001b[38;5;28mrange\u001b[39m(article_numbers) :\n\u001b[0;32m      3\u001b[0m     \u001b[38;5;66;03m# get value coressponding to attribute (key)\u001b[39;00m\n\u001b[1;32m----> 4\u001b[0m     articles \u001b[38;5;241m=\u001b[39m \u001b[43mdriver\u001b[49m\u001b[38;5;241;43m.\u001b[39;49m\u001b[43mfind_elements\u001b[49m\u001b[43m(\u001b[49m\u001b[43mBy\u001b[49m\u001b[38;5;241;43m.\u001b[39;49m\u001b[43mCLASS_NAME\u001b[49m\u001b[43m,\u001b[49m\u001b[43m \u001b[49m\u001b[38;5;124;43m\"\u001b[39;49m\u001b[38;5;124;43mb-block--top-bord.job-list-item.b-clearfix.js-job-item\u001b[39;49m\u001b[38;5;124;43m\"\u001b[39;49m\u001b[43m)\u001b[49m\n\u001b[0;32m      5\u001b[0m     \u001b[38;5;66;03m# find nth-article's job-link\u001b[39;00m\n\u001b[0;32m      6\u001b[0m     job_name \u001b[38;5;241m=\u001b[39m articles[nth_article]\u001b[38;5;241m.\u001b[39mfind_element(By\u001b[38;5;241m.\u001b[39mCLASS_NAME, \u001b[38;5;124m\"\u001b[39m\u001b[38;5;124mjs-job-link\u001b[39m\u001b[38;5;124m\"\u001b[39m)\n",
      "File \u001b[1;32m~\\AppData\\Local\\Programs\\Python\\Python39\\lib\\site-packages\\selenium\\webdriver\\remote\\webdriver.py:860\u001b[0m, in \u001b[0;36mWebDriver.find_elements\u001b[1;34m(self, by, value)\u001b[0m\n\u001b[0;32m    856\u001b[0m     value \u001b[38;5;241m=\u001b[39m \u001b[38;5;124mf\u001b[39m\u001b[38;5;124m'\u001b[39m\u001b[38;5;124m[name=\u001b[39m\u001b[38;5;124m\"\u001b[39m\u001b[38;5;132;01m{\u001b[39;00mvalue\u001b[38;5;132;01m}\u001b[39;00m\u001b[38;5;124m\"\u001b[39m\u001b[38;5;124m]\u001b[39m\u001b[38;5;124m'\u001b[39m\n\u001b[0;32m    858\u001b[0m \u001b[38;5;66;03m# Return empty list if driver returns null\u001b[39;00m\n\u001b[0;32m    859\u001b[0m \u001b[38;5;66;03m# See https://github.com/SeleniumHQ/selenium/issues/4555\u001b[39;00m\n\u001b[1;32m--> 860\u001b[0m \u001b[38;5;28;01mreturn\u001b[39;00m \u001b[38;5;28;43mself\u001b[39;49m\u001b[38;5;241;43m.\u001b[39;49m\u001b[43mexecute\u001b[49m\u001b[43m(\u001b[49m\u001b[43mCommand\u001b[49m\u001b[38;5;241;43m.\u001b[39;49m\u001b[43mFIND_ELEMENTS\u001b[49m\u001b[43m,\u001b[49m\u001b[43m \u001b[49m\u001b[43m{\u001b[49m\u001b[38;5;124;43m\"\u001b[39;49m\u001b[38;5;124;43musing\u001b[39;49m\u001b[38;5;124;43m\"\u001b[39;49m\u001b[43m:\u001b[49m\u001b[43m \u001b[49m\u001b[43mby\u001b[49m\u001b[43m,\u001b[49m\u001b[43m \u001b[49m\u001b[38;5;124;43m\"\u001b[39;49m\u001b[38;5;124;43mvalue\u001b[39;49m\u001b[38;5;124;43m\"\u001b[39;49m\u001b[43m:\u001b[49m\u001b[43m \u001b[49m\u001b[43mvalue\u001b[49m\u001b[43m}\u001b[49m\u001b[43m)\u001b[49m[\u001b[38;5;124m\"\u001b[39m\u001b[38;5;124mvalue\u001b[39m\u001b[38;5;124m\"\u001b[39m] \u001b[38;5;129;01mor\u001b[39;00m []\n",
      "File \u001b[1;32m~\\AppData\\Local\\Programs\\Python\\Python39\\lib\\site-packages\\selenium\\webdriver\\remote\\webdriver.py:440\u001b[0m, in \u001b[0;36mWebDriver.execute\u001b[1;34m(self, driver_command, params)\u001b[0m\n\u001b[0;32m    438\u001b[0m response \u001b[38;5;241m=\u001b[39m \u001b[38;5;28mself\u001b[39m\u001b[38;5;241m.\u001b[39mcommand_executor\u001b[38;5;241m.\u001b[39mexecute(driver_command, params)\n\u001b[0;32m    439\u001b[0m \u001b[38;5;28;01mif\u001b[39;00m response:\n\u001b[1;32m--> 440\u001b[0m     \u001b[38;5;28;43mself\u001b[39;49m\u001b[38;5;241;43m.\u001b[39;49m\u001b[43merror_handler\u001b[49m\u001b[38;5;241;43m.\u001b[39;49m\u001b[43mcheck_response\u001b[49m\u001b[43m(\u001b[49m\u001b[43mresponse\u001b[49m\u001b[43m)\u001b[49m\n\u001b[0;32m    441\u001b[0m     response[\u001b[38;5;124m\"\u001b[39m\u001b[38;5;124mvalue\u001b[39m\u001b[38;5;124m\"\u001b[39m] \u001b[38;5;241m=\u001b[39m \u001b[38;5;28mself\u001b[39m\u001b[38;5;241m.\u001b[39m_unwrap_value(response\u001b[38;5;241m.\u001b[39mget(\u001b[38;5;124m\"\u001b[39m\u001b[38;5;124mvalue\u001b[39m\u001b[38;5;124m\"\u001b[39m, \u001b[38;5;28;01mNone\u001b[39;00m))\n\u001b[0;32m    442\u001b[0m     \u001b[38;5;28;01mreturn\u001b[39;00m response\n",
      "File \u001b[1;32m~\\AppData\\Local\\Programs\\Python\\Python39\\lib\\site-packages\\selenium\\webdriver\\remote\\errorhandler.py:245\u001b[0m, in \u001b[0;36mErrorHandler.check_response\u001b[1;34m(self, response)\u001b[0m\n\u001b[0;32m    243\u001b[0m         alert_text \u001b[38;5;241m=\u001b[39m value[\u001b[38;5;124m\"\u001b[39m\u001b[38;5;124malert\u001b[39m\u001b[38;5;124m\"\u001b[39m]\u001b[38;5;241m.\u001b[39mget(\u001b[38;5;124m\"\u001b[39m\u001b[38;5;124mtext\u001b[39m\u001b[38;5;124m\"\u001b[39m)\n\u001b[0;32m    244\u001b[0m     \u001b[38;5;28;01mraise\u001b[39;00m exception_class(message, screen, stacktrace, alert_text)  \u001b[38;5;66;03m# type: ignore[call-arg]  # mypy is not smart enough here\u001b[39;00m\n\u001b[1;32m--> 245\u001b[0m \u001b[38;5;28;01mraise\u001b[39;00m exception_class(message, screen, stacktrace)\n",
      "\u001b[1;31mNoSuchWindowException\u001b[0m: Message: no such window: target window already closed\nfrom unknown error: web view not found\n  (Session info: chrome=110.0.5481.97)\nStacktrace:\nBacktrace:\n\t(No symbol) [0x00E737D3]\n\t(No symbol) [0x00E08B81]\n\t(No symbol) [0x00D0B36D]\n\t(No symbol) [0x00CEE5DA]\n\t(No symbol) [0x00D5F0CB]\n\t(No symbol) [0x00D70A56]\n\t(No symbol) [0x00D5B216]\n\t(No symbol) [0x00D30D97]\n\t(No symbol) [0x00D3253D]\n\tGetHandleVerifier [0x010EABF2+2510930]\n\tGetHandleVerifier [0x01118EC1+2700065]\n\tGetHandleVerifier [0x0111C86C+2714828]\n\tGetHandleVerifier [0x00F23480+645344]\n\t(No symbol) [0x00E10FD2]\n\t(No symbol) [0x00E16C68]\n\t(No symbol) [0x00E16D4B]\n\t(No symbol) [0x00E20D6B]\n\tBaseThreadInitThunk [0x75D100F9+25]\n\tRtlGetAppContainerNamedObjectPath [0x77E97BBE+286]\n\tRtlGetAppContainerNamedObjectPath [0x77E97B8E+238]\n"
     ]
    }
   ],
   "source": [
    "# find job details in articles which has same form individually\n",
    "for nth_article in range(article_numbers) :\n",
    "    # get value coressponding to attribute (key)\n",
    "    articles = driver.find_elements(By.CLASS_NAME, \"b-block--top-bord.job-list-item.b-clearfix.js-job-item\")\n",
    "    # find nth-article's job-link\n",
    "    job_name = articles[nth_article].find_element(By.CLASS_NAME, \"js-job-link\")\n",
    "    # get value coressponding to attribute (key)\n",
    "    job_link = job_name.get_attribute(\"href\")\n",
    "    print(job_name.text)\n",
    "    print(job_link)\n",
    "    driver.get(job_link)\n",
    "    time.sleep(3)\n",
    "    driver.back()\n",
    "    time.sleep(5)"
   ]
  },
  {
   "cell_type": "code",
   "execution_count": null,
   "id": "b83ca226-67af-47d4-b30b-4e488e6eb3c0",
   "metadata": {},
   "outputs": [],
   "source": []
  },
  {
   "cell_type": "code",
   "execution_count": null,
   "id": "67e13fb0-e88e-4c3a-b118-896a270da2fe",
   "metadata": {},
   "outputs": [],
   "source": []
  },
  {
   "cell_type": "code",
   "execution_count": null,
   "id": "1eb6b809-2e7f-439a-93f8-bce76436768c",
   "metadata": {},
   "outputs": [],
   "source": []
  }
 ],
 "metadata": {
  "kernelspec": {
   "display_name": "Python 3 (ipykernel)",
   "language": "python",
   "name": "python3"
  },
  "language_info": {
   "codemirror_mode": {
    "name": "ipython",
    "version": 3
   },
   "file_extension": ".py",
   "mimetype": "text/x-python",
   "name": "python",
   "nbconvert_exporter": "python",
   "pygments_lexer": "ipython3",
   "version": "3.9.7"
  }
 },
 "nbformat": 4,
 "nbformat_minor": 5
}

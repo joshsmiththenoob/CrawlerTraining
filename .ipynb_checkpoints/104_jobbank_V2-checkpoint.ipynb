{
 "cells": [
  {
   "cell_type": "code",
   "execution_count": 1,
   "id": "44f6961b-f8de-45e1-a331-7c39ec2b5ca6",
   "metadata": {},
   "outputs": [],
   "source": [
    "# 104_job_bank with Selenium\n",
    "# import packages\n",
    "from selenium.webdriver import Chrome\n",
    "from selenium.webdriver.chrome.service import Service\n",
    "from selenium.webdriver.common.by import By\n",
    "from selenium.webdriver.chrome.options import Options\n",
    "import csv , time\n",
    "\n",
    "# Get Driver\n",
    "service = Service(\"./chromedriver\")\n",
    "chrome_options = Options()\n",
    "chrome_options.page_load_strategy = 'eager'\n",
    "driver = Chrome(service=service,options = chrome_options)\n"
   ]
  },
  {
   "cell_type": "code",
   "execution_count": 2,
   "id": "43204495-6b95-42b0-a66e-03b33b42ef9f",
   "metadata": {},
   "outputs": [],
   "source": [
    "# 104 home page's url\n",
    "url = \"https://www.104.com.tw/jobs/main/\"  # go to jobbank\n",
    "driver.get(url) # surf jobbank with browser\n",
    "driver.maximize_window() # maximize broswer window -> get more HTML ASAP\n",
    "time.sleep(3)"
   ]
  },
  {
   "cell_type": "code",
   "execution_count": 3,
   "id": "036dfe9a-aaca-4808-8989-89eaf80753e6",
   "metadata": {},
   "outputs": [],
   "source": [
    "# Type KeyWord of interest\n",
    "driver.find_element(by=By.XPATH, value='/html/body/article[1]/div/div/div[4]/div/input').send_keys(\"光學工程師\")\n",
    "time.sleep(3)"
   ]
  },
  {
   "cell_type": "code",
   "execution_count": 4,
   "id": "b2ebe4df-a9a2-4dcc-9dfa-605495408312",
   "metadata": {},
   "outputs": [],
   "source": [
    "# Push search button\n",
    "driver.find_element(by=By.XPATH,value='/html/body/article[1]/div/div/div[4]/div/button').click()"
   ]
  },
  {
   "cell_type": "code",
   "execution_count": 5,
   "id": "cad79dc6-e01a-4292-9b6e-ba11a35ad08b",
   "metadata": {},
   "outputs": [],
   "source": [
    "# # Scroll page 4 times\n",
    "# for i in range(4):\n",
    "#     time.sleep(2)\n",
    "driver.execute_script(\"window.scrollTo(0,document.body.scrollHeight)\")"
   ]
  },
  {
   "cell_type": "code",
   "execution_count": 6,
   "id": "9207b98f-9521-42a7-8023-417c0eb58bc6",
   "metadata": {},
   "outputs": [],
   "source": [
    "# find HTML elements including the jobs\n",
    "test = driver.find_element(By.ID, \"js-job-content\")"
   ]
  },
  {
   "cell_type": "code",
   "execution_count": 7,
   "id": "57b7e404-a45a-45e8-860d-618b546c72e6",
   "metadata": {},
   "outputs": [
    {
     "data": {
      "text/plain": [
       "<selenium.webdriver.remote.webelement.WebElement (session=\"f46c71b661909a1cbb348023c2d0902b\", element=\"23c798a3-b366-451e-b28a-905afaf42397\")>"
      ]
     },
     "execution_count": 7,
     "metadata": {},
     "output_type": "execute_result"
    }
   ],
   "source": [
    "test"
   ]
  },
  {
   "cell_type": "code",
   "execution_count": 8,
   "id": "b83ca226-67af-47d4-b30b-4e488e6eb3c0",
   "metadata": {},
   "outputs": [
    {
     "data": {
      "text/plain": [
       "\"VQM工程師\\n熒茂光學股份有限公司\\n高雄市路竹區\\n1年以上\\n大學\\n1. 內外部工程圖面確認審查 2. 承認書製作審查相關作業 3. 樣品異常處理、轉試產等相關供應商協作 * 熒茂光學為一績優上市櫃公司(代號4729)，致力於觸控面板技術研發。 * 路竹科技園區新廠正式營運!歡迎有熱情、追求自我成長的您加入熒茂團隊！ * 薪優具業界競爭力！具相關產業經驗者，優先錄用！ * 國立大學系所畢業者，提供優渥薪酬福利！\\n月薪32,000元以上 員工500人\\n儲存\\n應徵\\n0~5人應徵\\nAOI硬體工程師/助理工程師\\n晶碩光學股份有限公司\\n桃園市龜山區\\n2年以上\\n大學\\n1. AOI 設備硬體開發 2. 新機 PLC / AOI程式測試 3. 新機量產導入 4. AOI組件安裝及維護 5. 新進機台安裝\\n月薪29,000~55,000元 上市上櫃 員工1700人\\n儲存\\n應徵\\n0~5人應徵\\n【中科】設備開發主管\\n先進光電科技股份有限公司\\n台中市大雅區\\n5年以上\\n專科\\n1.負責部門之績效 2.部門之間的技術性相關的溝通與協調 3.擔任團隊領導及跨部門溝通協調之角色 4.負責專用自動化設備研發管理之行政管理工作 5.具備整合自動化設備機構、電控及軟體的能力 6.研發專案推行、技術移轉 7.人才之培訓\\n待遇面議 上市上櫃 員工1000人\\n儲存\\n應徵\\n0~5人應徵\\n2/06 Optical Engineer 光學工程師 - (地點:新竹)\\nMolex Taiwan Ltd._台灣莫仕股份有限公司\\n電腦及其週邊設備製造業\\n新竹市\\n1年以上\\n大學\\nPRIMARY PURPOSE: 1. New optical component development and its performance validation. 2. Operate optical simulation tool for optical performance optimization. 3. Optical tolerance analysis - Monte Carlo simulation. DUTIES & RESPONSIBILITIES: 1. Conduct optical design to meet design requirements 2. Co-work externally with strategic partner to develop optical component 3. Lead optical component performance evaluation (define testing plan and condition) and analysis. 4. Conduct critical design review meeting to settle design parameters 5. Operate design simulation tool according to expertise, like ZEMAX, CODE V, TracePro ….. SCOPE: Take responsibility to manage optical component design, manufacture and performance validation through sufficient integrated design consideration internally and externally under basic design guiding principle. EDUCATION: REQUIRED: 1. BS degree or above. 2. Major in Mechanics, Physics, Optics or Optoelectronics. PREFERRED: Master Degree and major in Optics or Optoelectronics WORK EXPERIENCE: REQUIRED: No constrain, graduate is acceptable PREFERRED: 1. Has fiber optical-sub-assembly design experience. 2. Has work experience with lens maker based on molding and wafer level optics technics SKILLS & ABILITIES: REQUIRED: 1. Familiar and can independently execute design with at least one of deign simulation tools for optical components. 2. Has ability to solve issues in development independently. 3. Has ability for performance characterization and data analysis. 4. Basic communication skills in English. 5. Good teamwork, ownership, initiative, with a sense of urgency. PREFERRED: 1. Has knowledge on package process, such as fiber array and lens assembly and mechanical tolerance related to optical system design 2. Has knowledge on lens manufacture based on molding and wafer level optics technics\\n待遇面議 外商公司 員工530人\\n儲存\\n應徵\\n6~10人應徵\\n2/04 RD23002-光學工程師 Optical Engineer\\n英屬維京群島商祥茂光電科技股份有限公司台灣分公司\\n光電產業\\n新北市林口區\\n1年以上\\n碩士\\n1.Optical components performance evaluation and validation (including laser、lens、 PIC .. etc.) 2.Optical simulation for evaluation, optimization and tolerance analysis. 3.Lead project to accomplish light engine design by your professional skill and good cross-functional communication. 4.Handle NPI process and transfer to production (determine process specification、SOP .. etc.)\\n待遇面議 外商公司 員工550人\\n儲存\\n應徵\\n0~5人應徵\\n12/30 光學工程師\\n南方科技股份有限公司\\n光學器材製造業\\n新北市汐止區\\n經歷不拘\\n學歷不拘\\n1.負責分析光學系統的發展路線並完成光電系統解決方案的概念設計 2.負責光學系統的需求及測試需求的開發、管理開發案進度與解決開發遇到設計及製程問題 3.負責光學系統的相關性能指標的模擬分析和工作分析 4.負責光學系統的各模組需求及測試需求的開發任\\n月薪40,000元以上 員工15人\\n儲存\\n應徵\\n6~10人應徵\\n2/06 Sr. Optical Engineer 資深光學工程師 - WSS (地點:新竹or新店or部分遠端)\\nMolex Taiwan Ltd._台灣莫仕股份有限公司\\n電腦及其週邊設備製造業\\n新竹市\\n3年以上\\n大學\\nPRIMARY PURPOSE: 研發新一代WSS光學系統 REQUIREMENT: •熟悉幾何光學、光學系統設計概念 •3年以上光學產品 (鏡頭、投影機、相機、ARVR產品、光譜儀、光通訊產品….) 開發經驗 ，開模量產經驗尤佳 •能以英文與\\n待遇面議 外商公司 員工530人\\n儲存\\n應徵\\n6~10人應徵\\n2/13 光學工程師– Optical Engineer\\n怡利電子工業股份有限公司\\n消費性電子產品製造業\\n彰化縣伸港鄉\\n2年以上\\n大學\\n1.投射式HUD光學模擬 2.反射光與雜光分析模擬 3.各項光學相關分析模擬\\n待遇面議 上市上櫃 員工550人\\n儲存\\n應徵\\n0~5人應徵\\n2/09 光學工程師\\n九驊科技股份有限公司\\n光學器材製造業\\n新竹縣竹北市\\n經歷不拘\\n碩士\\n1. 光學系統研發設計、試產與功能驗證。 2. 光學系統既有功能之改善與優化。 3. 光學系統運作流程之改善與優化。 4. 光學元件規格蒐集與成本控制。 5. 支援協助其他部門與客戶之臨時性需求。\\n待遇面議\\n儲存\\n應徵\\n6~10人應徵\\n2/12 光學工程師\\n映思科技股份有限公司\\n其他半導體相關業\\n新竹市\\n經歷不拘\\n碩士\\nenst is seeking a harkworking optical engineer with enthusiasm for learning and creating pioneering technologies. In this role, you will build the prototype of automatic inspection products and have the opportunity to work with cross-functional team. The position allows you to work on a wide spectrum of topics, including optical design, prototyping, system integration, automation and developing metrology. Key Qualifications: 1. Hand-on experience in Optical System Alignment. 2. Knowledge of optics, image system or material analysis. 3. Expertise in laser, optical system or optical metrology. 4. Familiar with Opto-Mechatronics and Vacuum Engineering is plus. 5. Strong problem solving capability. 6. Excellent communication skills. Job Description: • Develop optical measurement systems and prototypes. • Conduct optical design, measurement, data anaylsis and validation. • Analyzing problems and design custom solutions. • Support documentation of maintenance and technical work instructions. • Co-work with multi-disciplinary employees for implement and qualification of tools, systems and custom tests. enst's total compensation package may include equity incentive plan which provides the opportunity for enst employee to become an enst shareholder. enst aslo offer additional rewards package to encourage enst employees for outstanding contributions and creative idea. Innovation, invention patent and intellectual property is highly valued. Your pay ranges will depend on your experience, skills, qualifications and location.\\n月薪50,000元以上\\n儲存\\n應徵\\n11~30人應徵\\n2/08 光學工程師\\n晶達光電股份有限公司\\n光電產業\\n新北市新店區\\n經歷不拘\\n專科\\n1.Panel提亮開發設計與評估 2.光學與機構設計 3.樣品組裝及測試 4.新產品發行及量產導入\\n待遇面議 員工180人\\n儲存\\n應徵\\n11~30人應徵\\n2/06 光學工程師\\n力特光電科技股份有限公司\\n光電產業\\n桃園市平鎮區\\n經歷不拘\\n大學\\n光學產品研究及開發\\n月薪35,000~50,000元 上市上櫃 員工600人\\n儲存\\n應徵\\n0~5人應徵\\n2/13 【研發】光學工程師\\n視陽光學股份有限公司\\n生化科技研發業\\n桃園市龜山區\\n經歷不拘\\n碩士\\n1. 光學模擬分析 2. 新產品探討與開發 3. 專案分析與執行 4. 專利撰寫\\n待遇面議 員工800人\\n儲存\\n應徵\\n6~10人應徵\\n贊助\\n【104】企業刊登與服務專員-擴大招募中\\n保障底薪3萬+超高額獎金、公司完善福利制度、各式津貼等\\n尋找想挑戰自己、積極、喜愛與人溝通的你加入，一起挑戰高薪！\\n歡迎轉職，具電話客服、電銷、門市、服務業、業務相關經驗尤佳\\n2/13 (資深）光學工程師 （Sr.) Optical Engineer\\n艾沙技術股份有限公司\\n消費性電子產品製造業\\n桃園市桃園區\\n經歷不拘\\n碩士\\n1. 進行成像光學、照明光學等系統模擬與分析 2. 定義產品之光學規格 3.驗證產品之光學表現 4.熟悉軟體工具如Zemax, TracePro, CodeV, AutoCAD, solidworks等\\n待遇面議 員工29人\\n儲存\\n應徵\\n0~5人應徵\\n2/08 光學工程師-RD1\\n創威光電股份有限公司\\n光電產業\\n新北市新店區\\n5年以上\\n大學\\n1. 光機整合設計 2. 產品開發設計 3.光學模擬分析。 4.設計檢測儀器管理及設備採購作業，提供技術性建議及相關諮詢。\\n待遇面議 員工90人\\n儲存\\n應徵\\n0~5人應徵\\n2/10 矽光產品開發光學工程師 (4120)\\n上詮光纖通信股份有限公司\\n光電產業\\n新竹市\\n經歷不拘\\n大學\\n1. 光學元件設計、光路模擬 2. 矽光子產品開發 3. 光特性失效模式建立及分析 4. 其它主管交辦事項\\n待遇面議\\n儲存\\n應徵\\n0~5人應徵\\n2/06 研發類-光學工程師(DBG)\\n中強光電股份有限公司\\n光電產業\\n新竹市\\n經歷不拘\\n碩士\\nA.投影光學照明集光設計及研發 B.專案開發階段的光學問題分析及排除 C.新光學技術survey和開發 D.導入量產階段之光學技術轉移\\n待遇面議 上市上櫃 員工17000人\\n儲存\\n應徵\\n6~10人應徵\\n2/10 光學工程師\\n雷笛克光學股份有限公司\\n光電產業\\n新北市中和區\\n經歷不拘\\n大學\\n1.光學透鏡開發設計。 2.光學系統測試。 3.懂ProE或Tracepro尤佳。 4.需能配合出差大陸。\\n月薪36,000元以上 上市上櫃 員工90人 距捷運中原站約160公尺\\n儲存\\n應徵\\n0~5人應徵\\n2/14 光學工程師\\n宇晟光學股份有限公司\\n光電產業\\n新竹縣竹北市\\n經歷不拘\\n大學\\n1.研究光機系統光學分析。 2.協助成像與照明系統光學分析。 3.協助光學量測設備整合。 4.協助光學軟體相關技術支緩。 5.協助光機軟體教育訓練。\\n待遇面議\\n儲存\\n應徵\\n0~5人應徵\\n2/10 雷射光學工程師(華亞)R66\\n友達光電股份有限公司\\n光學器材製造業\\n桃園市龜山區\\n1年以上\\n大學\\n1.開發相關鐳射光學模組/設備與製程設計 2.鐳射機台標準書規範與製作\\n待遇面議 上市上櫃 員工38000人\\n儲存\\n應徵\\n6~10人應徵\\n2/13 光學工程師\\n立創光電股份有限公司\\n光電產業\\n高雄市路竹區\\n1年以上\\n大學\\n1. 光學/光路/光機的分析與設計 2. 具備分析與選擇光學元件/材料之經驗技巧，並跟催發包採購/管理相關光學料件 3. 具備測試、驗證模擬之光學系統，並作系統優化 4. 需撰寫英文信件，與國外原廠討論溝通相關的規格/交期/技術問題 5. 協\\n月薪40,000~62,000元\\n儲存\\n應徵\\n0~5人應徵\\n2/06 研發類-資深光學工程師/主任工程師\\n中強光電股份有限公司\\n光電產業\\n新竹市\\n4年以上\\n碩士\\nA.光機實驗除錯 B.光機設計模擬(熟ASAP and Zemax) C.色彩調教 D.協助計劃量產 E.創新產品開發 and 應用\\n待遇面議 上市上櫃 員工17000人\\n儲存\\n應徵\\n0~5人應徵\\n贊助\\n台積電技術員線上徵才說明會\\n2/21、2/22年後轉職即刻開始\\n優渥薪酬及有感福利！\\n邀你和我們一起圓夢！火速預約報名→\\n2/06 RD-光學工程師(台中)\\n捷普集團_綠點高新科技股份有限公司\\n其他電子零組件相關業\\n台中市大雅區\\n經歷不拘\\n碩士\\n1. 照相機鏡頭/虛擬實境眼鏡等光學產品之光學設計、機構設計 2. 光學專案管理 3. 試做打樣/問題分析 4. 英文能力：會議/郵件/報告\\n待遇面議 外商公司 員工260000人\\n儲存\\n應徵\\n11~30人應徵\\n第 1 / 31 頁\\n第 2 / 31 頁\\n第 3 / 31 頁\\n第 4 / 31 頁\\n第 5 / 31 頁\\n第 6 / 31 頁\\n第 7 / 31 頁\\n第 8 / 31 頁\\n第 9 / 31 頁\\n第 10 / 31 頁\\n第 11 / 31 頁\\n第 12 / 31 頁\\n第 13 / 31 頁\\n第 14 / 31 頁\\n第 15 / 31 頁\\n第 16 / 31 頁\\n第 17 / 31 頁\\n第 18 / 31 頁\\n第 19 / 31 頁\\n第 20 / 31 頁\\n第 21 / 31 頁\\n第 22 / 31 頁\\n第 23 / 31 頁\\n第 24 / 31 頁\\n第 25 / 31 頁\\n第 26 / 31 頁\\n第 27 / 31 頁\\n第 28 / 31 頁\\n第 29 / 31 頁\\n第 30 / 31 頁\\n第 31 / 31 頁\\n下一頁\\n2/13 集團策略 光學工程師(歡迎外籍人士)\\n英濟股份有限公司\\n其他電子零組件相關業\\n新北市中和區\\n3年以上\\n大學\\n1.LBS光學系統開發及設計。 2.LCOS光學系統開發及設計。 3.光路設計及模擬。 4.光波導應用及開發。 5.光學實驗規劃、檢測及數據分析。 6.團隊溝通及合作開發。 7.主管交辦事項。\\n待遇面議上市上櫃員工4000人\\n儲存\\n應徵\\n0~5人應徵\\n2/13 光學工程師\\n達方電子股份有限公司\\n光學器材製造業\\n桃園市龜山區\\n1年以上\\n碩士\\n1.電腦周邊產品發光模組開發與設計 2.Gaming產品發光模組件開發與設計 3.發光模組產品量試/量產問題分析與解決 4.新產品開發\\n待遇面議上市上櫃員工15000人\\n儲存\\n應徵\\n0~5人應徵\\n2/06 研發類-光學工程師\\n中強光電股份有限公司\\n光電產業\\n新竹市\\n經歷不拘\\n大學\\nA.熟悉基本光學原理, 色彩學等, 若有投影機概念尤佳 B.投影機專案執行, 主要負責光學成像品質優化、顏色調整以及光學相關issue處理 C.專案分析以及新平台設計需搭配模擬軟體, 需了解光學模擬軟體如ASAP, ZEMAX操作 D.專案\\n待遇面議上市上櫃員工17000人\\n儲存\\n應徵\\n11~30人應徵\\n2/06 鏡頭模組光學工程師\\n晶鑠科技有限公司\\n光學器材製造業\\n新北市中和區\\n3年以上\\n大學\\n1. Lens or optical-mechanical design experience 2. Lens manufacturing and process capability 3. Lens & Filter survey, testing and verification 4. Camera module process capability 5. Image Quality verification 6. Camera module FA for optical relative issue 7. Camera module optical spec. negotiation w/ customer\\n待遇面議\\n儲存\\n應徵\\n0~5人應徵\\n2/13 【D】Optics engineer 光學工程師\\n富智康國際股份有限公司(鴻海集團)\\n消費性電子產品製造業\\n新北市土城區\\n經歷不拘\\n大學\\n1.Component selection (camera/display/LED) and evaluation 2.Strong hand on experience in system design/integration and debugging. 3.Production line issue fixing and yield improvement. 4.Good communication with suppliers and customers. 5.3-5 years relevant experience\\n待遇面議\\n儲存\\n應徵\\n0~5人應徵\\n2/13 光學工程師\\n由田新技股份有限公司\\n光電產業\\n新北市中和區\\n經歷不拘\\n碩士\\n1.光學環境模擬與架設 2.光源設計開發 3.光學實驗架設 4.光學實驗報告\\n待遇面議上市上櫃員工400人\\n儲存\\n應徵\\n6~10人應徵\\n2/07 14P-T-0002光學工程師\\n瑞儀光電股份有限公司\\n光電產業\\n高雄市前鎮區\\n經歷不拘\\n大學\\n1. 設計開發光學系統、控制程式，並進行測試分析。 2. 控制與分析光電材料、元件、產品之良率及穩定度。 3. 進行光學模擬分析。 4. 設計檢測儀器及製作工具。 5. 對光電材料與元件產品製作、管理及設備採購作業，提供技術性建議及相關諮詢。\\n待遇面議上市上櫃員工19000人\\n儲存\\n應徵\\n0~5人應徵\\n2/13 光學工程師(新竹)\\n展達通訊股份有限公司_群光集團關係企業\\n電腦及其週邊設備製造業\\n新竹市\\n2年以上\\n專科\\n1. Camera產品光學系統開發 2. 光學系統所需零件選定 3. Optical system evaluation\\n待遇面議員工1600人\\n儲存\\n應徵\\n0~5人應徵\\n贊助\\n保障5萬X9個月，完整培訓，歡迎轉職者/新鮮人！\\n永慶房產集團-雙北直營店經紀人招募中！\\n【月月晉升挑戰百萬年薪】不限年資，晉升、加薪速度自己掌握\\n【彈性工作8小時】彈性排班制度，讓工作與生活平衡調配\\n2/13 研發部-光學工程師\\n科毅科技股份有限公司\\n半導體製造業\\n桃園市楊梅區\\n經歷不拘\\n大學\\n1、驗證產品光學規格。 2、光學設計模擬與開發。 3、光學問題分析。 4、技術協助支援。 5、專利撰寫。 6、其他主管交辦事項。\\n月薪35,000~60,000元員工40人\\n儲存\\n應徵\\n11~30人應徵\\n2/13 光學工程師\\n鈦昇科技股份有限公司\\n半導體製造業\\n高雄市燕巢區\\n經歷不拘\\n碩士\\n1.協助Bessel光路設計/架設; 2.客需樣品製作/測試/量測; 3.光學模擬\\n月薪40,000元以上員工500人\\n儲存\\n應徵\\n6~10人應徵\\n2/14 光學工程師\\n瑞基海洋生物科技股份有限公司\\n醫療器材製造業\\n台中市西屯區\\n1年以上\\n大學\\n1.光學模組設計及驗證 2.與機構合作整合完成一致性光學模組 3.光學模擬與實際光路架設測試 4.光學系統開發效能與測試分析 5.跨部門合作開發 6.完成主管交辦事項\\n待遇面議員工160人\\n儲存\\n應徵\\n0~5人應徵\\n2/13 雷射光學工程師 [Engineer of Laser-Optics Department]\\n上儀股份有限公司\\n光電產業\\n台北市內湖區\\n1年以上\\n大學\\n[工作內容] 1. 研究雷射製程方法 2. 設計及開發光學系統 3. 協助新製程及光學系統導入雷射設備 4. 維護及優化雷射源 5. 研究光電元件、光電物理及技術、積體光學、光電耦合、光纖同軸系統特性及理論 [發展願景] 1.了解與學習雷射物質\\n待遇面議員工30人\\n儲存\\n應徵\\n6~10人應徵\\n2/09 產品光學工程師\\n誠美材料科技股份有限公司\\n光電產業\\n台南市善化區\\n1年以上\\n碩士\\n1、產品規劃、光學模擬/開發 2、光學實驗規劃、檢測及數據分析 3、供應商合作產品開發 4.、問題解析/異常改善/技術優化 5.、開發專案執行及其他主管交辦\\n月薪39,000~55,000元上市上櫃員工1100人\\n儲存\\n應徵\\n11~30人應徵\\n2/10 光學工程師(台中后里)\\nGIS-KY(6456)業成集團_英特盛科技股份有限公司\\n光電產業\\n台中市后里區\\n1年以上\\n碩士\\n1.量測系統原理及架構分析 2.光學計算工具程式開發 3.光學模擬及量測數據分析 4.量測資料庫建立及GUI介面開發 5.跨部門溝通與協調\\n待遇面議員工28000人\\n儲存\\n應徵\\n0~5人應徵\\n2/14 光學工程師/助理工程師\\n艾斯邁科技股份有限公司\\n電腦及其週邊設備製造業\\n新北市中和區\\n經歷不拘\\n專科\\n工作內容： 條件要求如下: 1.取像系統設計實驗 2.照明系統設計實驗 3.光學模組調校及保養 4.具思慮清晰可獨立工作，並有良好的團隊工作精神及溝通能力者佳。 5.可進行短期國內外出差。 6.本職務須可自我管理，並對工作有高度責任感。 7.具備\\n月薪30,000~100,000元員工40人距捷運橋和站約230公尺\\n儲存\\n應徵\\n6~10人應徵\\n1/25 光學應用工程師\\n群力智庫有限公司\\n其它軟體及網路相關業\\n台南市東區\\n3年以上\\n專科\\n選用 5. 對光電材料與元件產品製作、管理及設備採購作業，提供技術性建議及相關諮詢。 6. 進行光電儀器的修護。 7. 光學量測程式應用與配合機構工程師做光學整合開發 加分條件: (有作品/經驗紀錄可展示由佳) 1.具思慮清晰可獨立工作，並有良\\n月薪38,000~80,000元員工6人\\n儲存\\n應徵\\n6~10人應徵\\n2/13 【茂林光電】光學工程師\\n茂林光電科技股份有限公司\\n光電產業\\n桃園市中壢區\\n經歷不拘\\n大學\\n1. 導光應用之光學設計與產品開發 2. 光學模擬分析與樣品製作 3. 光學應用技術研發與專案執行\\n月薪45,000~65,000元上市上櫃員工2000人\\n儲存\\n應徵\\n11~30人應徵\\n贊助\\n【新思科技】熱烈招募中!\\n全球EDA和半導體IP領域的領導者\\n富比士全球最佳企業雇主！\\n具競爭力的薪酬福利，歡迎加入→\\n2/01 智能應用事業部-視訊影像光學工程師(內湖)\\n光寶科技股份有限公司\\n消費性電子產品製造業\\n台北市內湖區\\n5年以上\\n大學\\nA.相機鏡頭模組開發試作、驗證與量產等事宜 B.光學元件選用及設計 C.光學模擬與分析資料 D.光學模組整合設計與應用 E.實驗規劃、檢測及數據分析\\n待遇面議上市上櫃員工43000人距捷運港墘站約480公尺\\n儲存\\n應徵\\n0~5人應徵\\n2/13 【視訊面談】光學工程師\\n玉晶光電股份有限公司\\n光電產業\\n台中市大雅區\\n經歷不拘\\n碩士\\n1. 從理論模型的建立開始分析生產問題點 2. 建立數學模型分析問題成因並解決 3. 開發新的光學系統 4. 實驗設計與驗證 5. 其他主管交辦事項\\n待遇面議上市上櫃員工15000人\\n儲存\\n應徵\\n11~30人應徵\\n2/14 光學設計工程師\\n一品光學工業股份有限公司\\n光學器材製造業\\n台北市北投區\\n經歷不拘\\n大學\\n1.雜散光模擬解析、改善 2.公差分析 3.試差問題分析、解決 4.主管交辦事項\\n待遇面議員工100人距捷運奇岩站約210公尺\\n儲存\\n應徵\\n0~5人應徵\\n上一頁\\n第 1 / 31 頁\\n第 2 / 31 頁\\n第 3 / 31 頁\\n第 4 / 31 頁\\n第 5 / 31 頁\\n第 6 / 31 頁\\n第 7 / 31 頁\\n第 8 / 31 頁\\n第 9 / 31 頁\\n第 10 / 31 頁\\n第 11 / 31 頁\\n第 12 / 31 頁\\n第 13 / 31 頁\\n第 14 / 31 頁\\n第 15 / 31 頁\\n第 16 / 31 頁\\n第 17 / 31 頁\\n第 18 / 31 頁\\n第 19 / 31 頁\\n第 20 / 31 頁\\n第 21 / 31 頁\\n第 22 / 31 頁\\n第 23 / 31 頁\\n第 24 / 31 頁\\n第 25 / 31 頁\\n第 26 / 31 頁\\n第 27 / 31 頁\\n第 28 / 31 頁\\n第 29 / 31 頁\\n第 30 / 31 頁\\n第 31 / 31 頁\\n下一頁\""
      ]
     },
     "execution_count": 8,
     "metadata": {},
     "output_type": "execute_result"
    }
   ],
   "source": [
    "test.text"
   ]
  },
  {
   "cell_type": "code",
   "execution_count": 9,
   "id": "67e13fb0-e88e-4c3a-b118-896a270da2fe",
   "metadata": {},
   "outputs": [
    {
     "name": "stdout",
     "output_type": "stream",
     "text": [
      "<class 'str'>\n"
     ]
    }
   ],
   "source": [
    "print(type(test.text))"
   ]
  },
  {
   "cell_type": "code",
   "execution_count": null,
   "id": "1eb6b809-2e7f-439a-93f8-bce76436768c",
   "metadata": {},
   "outputs": [],
   "source": []
  }
 ],
 "metadata": {
  "kernelspec": {
   "display_name": "Python 3 (ipykernel)",
   "language": "python",
   "name": "python3"
  },
  "language_info": {
   "codemirror_mode": {
    "name": "ipython",
    "version": 3
   },
   "file_extension": ".py",
   "mimetype": "text/x-python",
   "name": "python",
   "nbconvert_exporter": "python",
   "pygments_lexer": "ipython3",
   "version": "3.9.7"
  }
 },
 "nbformat": 4,
 "nbformat_minor": 5
}

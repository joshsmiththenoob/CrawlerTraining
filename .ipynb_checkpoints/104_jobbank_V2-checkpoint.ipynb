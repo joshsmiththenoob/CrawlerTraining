{
 "cells": [
  {
   "cell_type": "code",
   "execution_count": 1,
   "id": "44f6961b-f8de-45e1-a331-7c39ec2b5ca6",
   "metadata": {},
   "outputs": [],
   "source": [
    "# 104_job_bank with Selenium (Overview)\n",
    "# import packages\n",
    "from selenium.webdriver import Chrome\n",
    "from selenium.webdriver.chrome.service import Service\n",
    "from selenium.webdriver.common.by import By\n",
    "from selenium.webdriver.chrome.options import Options\n",
    "import csv , time\n",
    "\n",
    "# Get Driver\n",
    "service = Service(\"./chromedriver\")\n",
    "chrome_options = Options()\n",
    "chrome_options.page_load_strategy = 'eager'\n",
    "driver = Chrome(service=service,options = chrome_options)\n"
   ]
  },
  {
   "cell_type": "code",
   "execution_count": 2,
   "id": "43204495-6b95-42b0-a66e-03b33b42ef9f",
   "metadata": {},
   "outputs": [],
   "source": [
    "# 104 home page's url\n",
    "url = \"https://www.104.com.tw/jobs/main/\"  # go to jobbank\n",
    "driver.get(url) # surf jobbank with browser\n",
    "driver.maximize_window() # maximize broswer window -> get more HTML ASAP\n",
    "time.sleep(3)"
   ]
  },
  {
   "cell_type": "code",
   "execution_count": 3,
   "id": "036dfe9a-aaca-4808-8989-89eaf80753e6",
   "metadata": {},
   "outputs": [],
   "source": [
    "# Type KeyWord of interest\n",
    "driver.find_element(by=By.XPATH, value='/html/body/article[1]/div/div/div[4]/div/input').send_keys(\"光學工程師\")\n",
    "time.sleep(3)"
   ]
  },
  {
   "cell_type": "code",
   "execution_count": 4,
   "id": "b2ebe4df-a9a2-4dcc-9dfa-605495408312",
   "metadata": {},
   "outputs": [],
   "source": [
    "# Push search button\n",
    "driver.find_element(by=By.XPATH,value='/html/body/article[1]/div/div/div[4]/div/button').click()\n",
    "time.sleep(3)"
   ]
  },
  {
   "cell_type": "code",
   "execution_count": 5,
   "id": "cad79dc6-e01a-4292-9b6e-ba11a35ad08b",
   "metadata": {},
   "outputs": [],
   "source": [
    "# # Scroll page 4 times\n",
    "# for i in range(4):\n",
    "#     time.sleep(2)\n",
    "driver.execute_script(\"window.scrollTo(0,document.body.scrollHeight)\")"
   ]
  },
  {
   "cell_type": "code",
   "execution_count": 7,
   "id": "9207b98f-9521-42a7-8023-417c0eb58bc6",
   "metadata": {},
   "outputs": [],
   "source": [
    "# find HTML element including the jobs' info\n",
    "articles = driver.find_elements(By.CLASS_NAME, \"b-block--top-bord.job-list-item.b-clearfix.js-job-item\")"
   ]
  },
  {
   "cell_type": "code",
   "execution_count": 17,
   "id": "57b7e404-a45a-45e8-860d-618b546c72e6",
   "metadata": {},
   "outputs": [
    {
     "name": "stdout",
     "output_type": "stream",
     "text": [
      "精密機構/機械\n",
      "https://www.104.com.tw/job/4hvfp?jobsource=hotjob_chr\n",
      "半導體設備工程師(桃園)\n",
      "https://www.104.com.tw/job/6ig8h?jobsource=hotjob_chr\n",
      "Optical Engineer 光學工程師 - (地點:新竹)\n",
      "https://www.104.com.tw/job/7two7?jobsource=jolist_a_relevance\n",
      "RD23002-光學工程師 Optical Engineer\n",
      "https://www.104.com.tw/job/7w12z?jobsource=jolist_a_relevance\n",
      "光學工程師\n",
      "https://www.104.com.tw/job/7imjh?jobsource=jolist_a_relevance\n",
      "光學工程師\n",
      "https://www.104.com.tw/job/30mny?jobsource=jolist_a_relevance\n",
      "光學工程師– Optical Engineer\n",
      "https://www.104.com.tw/job/46jc0?jobsource=jolist_a_relevance\n",
      "Sr. Optical Engineer 資深光學工程師 - WSS (地點:新竹or新店or部分遠端)\n",
      "https://www.104.com.tw/job/78o9k?jobsource=jolist_a_relevance\n",
      "光學工程師\n",
      "https://www.104.com.tw/job/7v7k8?jobsource=jolist_a_relevance\n",
      "光學工程師\n",
      "https://www.104.com.tw/job/5nxqn?jobsource=jolist_a_relevance\n",
      "光學工程師\n",
      "https://www.104.com.tw/job/2jak5?jobsource=jolist_a_relevance\n",
      "【研發】光學工程師\n",
      "https://www.104.com.tw/job/7mxrh?jobsource=jolist_a_relevance\n",
      "矽光產品開發光學工程師 (4120)\n",
      "https://www.104.com.tw/job/7war1?jobsource=jolist_a_relevance\n",
      "光學工程師\n",
      "https://www.104.com.tw/job/7p8w1?jobsource=jolist_a_relevance\n",
      "光學工程師-RD1\n",
      "https://www.104.com.tw/job/72wk7?jobsource=jolist_a_relevance\n",
      "研發類-光學工程師(DBG)\n",
      "https://www.104.com.tw/job/7pkyd?jobsource=jolist_a_relevance\n",
      "光學工程師/助理工程師\n",
      "https://www.104.com.tw/job/7jh0r?jobsource=jolist_a_relevance\n",
      "光學工程師\n",
      "https://www.104.com.tw/job/2va22?jobsource=jolist_a_relevance\n",
      "【D】Optics engineer 光學工程師\n",
      "https://www.104.com.tw/job/7sj6t?jobsource=jolist_a_relevance\n",
      "14P-T-0002光學工程師\n",
      "https://www.104.com.tw/job/5ep52?jobsource=jolist_a_relevance\n",
      "產品光學工程師\n",
      "https://www.104.com.tw/job/2jsnr?jobsource=jolist_a_relevance\n",
      "光學工程師\n",
      "https://www.104.com.tw/job/55twq?jobsource=jolist_a_relevance\n",
      "研發類-光學工程師\n",
      "https://www.104.com.tw/job/7rmow?jobsource=jolist_a_relevance\n",
      "光學工程師\n",
      "https://www.104.com.tw/job/4mzl6?jobsource=jolist_a_relevance\n",
      "雷射光學工程師(華亞)R66\n",
      "https://www.104.com.tw/job/7vzbq?jobsource=jolist_a_relevance\n",
      "研發類-資深光學工程師/主任工程師\n",
      "https://www.104.com.tw/job/53tab?jobsource=jolist_a_relevance\n",
      "RD-光學工程師(台中)\n",
      "https://www.104.com.tw/job/65kgf?jobsource=jolist_a_relevance\n",
      "光學工程師\n",
      "https://www.104.com.tw/job/7se7i?jobsource=jolist_a_relevance\n",
      "集團策略 光學工程師(歡迎外籍人士)\n",
      "https://www.104.com.tw/job/755i4?jobsource=jolist_a_relevance\n",
      "光學工程師\n",
      "https://www.104.com.tw/job/4wwrm?jobsource=jolist_a_relevance\n",
      "研發部-光學工程師\n",
      "https://www.104.com.tw/job/6moaz?jobsource=jolist_a_relevance\n",
      "光學工程師/技術副理/技術經理(新竹)\n",
      "https://www.104.com.tw/job/5kjmz?jobsource=jolist_a_relevance\n",
      "【茂林光電】光學工程師\n",
      "https://www.104.com.tw/job/6vq07?jobsource=jolist_a_relevance\n",
      "光學工程師(新竹)\n",
      "https://www.104.com.tw/job/7mk2w?jobsource=jolist_a_relevance\n",
      "鏡頭模組光學工程師\n",
      "https://www.104.com.tw/job/69lva?jobsource=jolist_a_relevance\n",
      "(資深）光學工程師 （Sr.) Optical Engineer\n",
      "https://www.104.com.tw/job/79qgk?jobsource=jolist_a_relevance\n",
      "光學工程師(台中后里)\n",
      "https://www.104.com.tw/job/78saf?jobsource=jolist_a_relevance\n",
      "【視訊面談】光學工程師\n",
      "https://www.104.com.tw/job/7r6jy?jobsource=jolist_a_relevance\n",
      "光學應用工程師\n",
      "https://www.104.com.tw/job/7vnq4?jobsource=jolist_a_relevance\n",
      "光學(副)工程師\n",
      "https://www.104.com.tw/job/7hxx1?jobsource=jolist_a_relevance\n",
      "【茂林光電 培訓專案 】光學工程師_TML (歡迎新鮮人)\n",
      "https://www.104.com.tw/job/7ji86?jobsource=jolist_a_relevance\n",
      "雷射光學工程師 [Engineer of Laser-Optics Department]\n",
      "https://www.104.com.tw/job/7h58s?jobsource=jolist_a_relevance\n"
     ]
    }
   ],
   "source": [
    "# find job details in articles which has same form individually\n",
    "for contents in articles:\n",
    "    # find job name\n",
    "    job_name = contents.find_element(By.CLASS_NAME, \"js-job-link\")\n",
    "    # get value coressponding to attribute (key)\n",
    "    job_link = job_name.get_attribute(\"href\")\n",
    "    print(job_name.text)\n",
    "    print(job_link)"
   ]
  },
  {
   "cell_type": "code",
   "execution_count": null,
   "id": "b83ca226-67af-47d4-b30b-4e488e6eb3c0",
   "metadata": {},
   "outputs": [],
   "source": []
  },
  {
   "cell_type": "code",
   "execution_count": null,
   "id": "67e13fb0-e88e-4c3a-b118-896a270da2fe",
   "metadata": {},
   "outputs": [],
   "source": []
  },
  {
   "cell_type": "code",
   "execution_count": null,
   "id": "1eb6b809-2e7f-439a-93f8-bce76436768c",
   "metadata": {},
   "outputs": [],
   "source": []
  }
 ],
 "metadata": {
  "kernelspec": {
   "display_name": "Python 3 (ipykernel)",
   "language": "python",
   "name": "python3"
  },
  "language_info": {
   "codemirror_mode": {
    "name": "ipython",
    "version": 3
   },
   "file_extension": ".py",
   "mimetype": "text/x-python",
   "name": "python",
   "nbconvert_exporter": "python",
   "pygments_lexer": "ipython3",
   "version": "3.9.7"
  }
 },
 "nbformat": 4,
 "nbformat_minor": 5
}
